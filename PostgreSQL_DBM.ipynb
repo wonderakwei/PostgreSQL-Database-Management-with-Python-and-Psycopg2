{
 "cells": [
  {
   "cell_type": "markdown",
   "id": "078afc26",
   "metadata": {},
   "source": [
    "PostgreSQL Database Management with Python and Psycopg2\n",
    "\n",
    "**Introduction**\n",
    "\n",
    "In this project, we will explore various functionalities related to PostgreSQL database management using Python and Psycopg2. The objective is to understand how to interact with a PostgreSQL database using Python scripts and Psycopg2 library.\n",
    "\n",
    "**Tools and Libraries**\n",
    "- PostgreSQL: A powerful, open-source object-relational database system.\n",
    "- Psycopg2: A PostgreSQL adapter for the Python programming language.\n",
    "\n",
    "**Prerequisites**\n",
    "- Install PostgreSQL: PostgreSQL Installation Guide\n",
    "- Install Psycopg2: pip install psycopg2\n",
    "\n",
    "**Project Structure**\n",
    "\n",
    "- Create a PostgreSQL Database\n",
    "- Connect to the Database\n",
    "- Create a Table\n",
    "- Insert Data\n",
    "- Query Data\n",
    "- Execute Stored Procedures and Functions\n",
    "- Delete Data\n",
    "- Remove Table\n",
    "- Remove Database"
   ]
  },
  {
   "cell_type": "markdown",
   "id": "ebc87377",
   "metadata": {},
   "source": [
    "# Create a PostgreSQL Database"
   ]
  },
  {
   "cell_type": "code",
   "execution_count": 1,
   "id": "18459b50",
   "metadata": {},
   "outputs": [],
   "source": [
    "import psycopg2\n",
    "import pandas as pd"
   ]
  },
  {
   "cell_type": "code",
   "execution_count": 2,
   "id": "e5983305",
   "metadata": {},
   "outputs": [],
   "source": [
    "# password in separate text file\n",
    "# Read the password from the text file\n",
    "with open('login.txt', 'r') as file:\n",
    "    pw = file.readline().strip()"
   ]
  },
  {
   "cell_type": "code",
   "execution_count": 3,
   "id": "491a2fbd",
   "metadata": {},
   "outputs": [
    {
     "name": "stdout",
     "output_type": "stream",
     "text": [
      "Database created successfully!\n"
     ]
    }
   ],
   "source": [
    "def create_database():\n",
    "    try:\n",
    "        conn = psycopg2.connect(user=\"postgres\",\n",
    "                                password= pw,\n",
    "                                host=\"localhost\",\n",
    "                                port=\"5432\")\n",
    "        conn.autocommit = True\n",
    "        cursor = conn.cursor()\n",
    "        \n",
    "        cursor.execute(\"CREATE DATABASE schdbm;\")\n",
    "        print(\"Database created successfully!\")\n",
    "        \n",
    "    except Exception as e:\n",
    "        print(\"Error:\", e)\n",
    "        \n",
    "    finally:\n",
    "        if conn:\n",
    "            conn.close()\n",
    "\n",
    "create_database()"
   ]
  },
  {
   "cell_type": "markdown",
   "id": "935dbe2e",
   "metadata": {},
   "source": [
    "# Connect to the Database"
   ]
  },
  {
   "cell_type": "code",
   "execution_count": 4,
   "id": "f46facaf",
   "metadata": {},
   "outputs": [
    {
     "name": "stdout",
     "output_type": "stream",
     "text": [
      "Connected to schdbm successfully!\n"
     ]
    }
   ],
   "source": [
    "def connect_to_database(database_name):\n",
    "    try:\n",
    "        conn = psycopg2.connect(user=\"postgres\",\n",
    "                                password=pw,\n",
    "                                host=\"localhost\",\n",
    "                                port=\"5432\",\n",
    "                                database=database_name)\n",
    "        print(f\"Connected to {database_name} successfully!\")\n",
    "        return conn\n",
    "        \n",
    "    except Exception as e:\n",
    "        print(\"Error:\", e)\n",
    "        return None\n",
    "\n",
    "conn = connect_to_database(\"schdbm\")"
   ]
  },
  {
   "cell_type": "markdown",
   "id": "881e62fc",
   "metadata": {},
   "source": [
    "# Create a Table"
   ]
  },
  {
   "cell_type": "code",
   "execution_count": 5,
   "id": "3a760f19",
   "metadata": {},
   "outputs": [
    {
     "name": "stdout",
     "output_type": "stream",
     "text": [
      "Table created successfully!\n"
     ]
    }
   ],
   "source": [
    "def create_table(conn):\n",
    "    try:\n",
    "        cursor = conn.cursor()\n",
    "        \n",
    "        create_table_query = '''\n",
    "        CREATE TABLE IF NOT EXISTS students (\n",
    "           id SERIAL PRIMARY KEY,\n",
    "           first_name VARCHAR(50) NOT NULL,\n",
    "           last_name VARCHAR(50) NOT NULL,\n",
    "           email VARCHAR(100) UNIQUE NOT NULL,\n",
    "           date_of_birth DATE,\n",
    "           gender VARCHAR(10),\n",
    "           address VARCHAR(200),\n",
    "           city VARCHAR(50),\n",
    "           state VARCHAR(50),\n",
    "           zipcode VARCHAR(10),\n",
    "           phone_number VARCHAR(15)\n",
    "        );\n",
    "        '''\n",
    "        \n",
    "        cursor.execute(create_table_query)\n",
    "        print(\"Table created successfully!\")\n",
    "        \n",
    "    except Exception as e:\n",
    "        print(\"Error:\", e)\n",
    "        \n",
    "    finally:\n",
    "        if cursor:\n",
    "            cursor.close()\n",
    "\n",
    "create_table(conn)"
   ]
  },
  {
   "cell_type": "markdown",
   "id": "ff3b3ed2",
   "metadata": {},
   "source": [
    "# Insert Data"
   ]
  },
  {
   "cell_type": "code",
   "execution_count": 6,
   "id": "5a550aeb",
   "metadata": {},
   "outputs": [
    {
     "name": "stdout",
     "output_type": "stream",
     "text": [
      "Data inserted successfully!\n",
      "Data inserted successfully!\n",
      "Data inserted successfully!\n",
      "Data inserted successfully!\n",
      "Data inserted successfully!\n",
      "Data inserted successfully!\n",
      "Data inserted successfully!\n",
      "Data inserted successfully!\n",
      "Data inserted successfully!\n",
      "Data inserted successfully!\n"
     ]
    }
   ],
   "source": [
    "def insert_student_data(conn, first_name, last_name, email, date_of_birth, gender, address, city, state, zipcode, phone_number):\n",
    "    try:\n",
    "        cursor = conn.cursor()\n",
    "\n",
    "        insert_query = '''\n",
    "            INSERT INTO students (first_name, last_name, email, date_of_birth, gender, address, city, state, zipcode, phone_number)\n",
    "            VALUES (%s, %s, %s, %s, %s, %s, %s, %s, %s, %s);\n",
    "        '''\n",
    "        cursor.execute(insert_query, (first_name, last_name, email, date_of_birth, gender, address, city, state, zipcode, phone_number))\n",
    "\n",
    "        conn.commit()\n",
    "        print(\"Data inserted successfully!\")\n",
    "\n",
    "    except Exception as e:\n",
    "        print(\"Error:\", e)\n",
    "\n",
    "    finally:\n",
    "        if cursor:\n",
    "            cursor.close()\n",
    "\n",
    "# Sample data for 10 records \n",
    "student_data = [\n",
    "    (\"John\", \"Doe\", \"john.doe@example.com\", \"1990-01-01\", \"Male\", \"123 Main St\", \"City1\", \"State1\", \"12345\", \"123-456-7890\"),\n",
    "    (\"Jane\", \"Smith\", \"jane.smith@example.com\", \"1991-02-02\", \"Female\", \"456 Elm St\", \"City2\", \"State2\", \"23456\", \"234-567-8901\"),\n",
    "    (\"Emily\", \"Johnson\", \"emily.johnson@example.com\", \"1992-03-03\", \"Female\", \"789 Oak St\", \"City3\", \"State3\", \"34567\", \"345-678-9012\"),\n",
    "    (\"Michael\", \"Williams\", \"michael.williams@example.com\", \"1993-04-04\", \"Male\", \"101 Pine St\", \"City4\", \"State4\", \"45678\", \"456-789-0123\"),\n",
    "    (\"Jessica\", \"Brown\", \"jessica.brown@example.com\", \"1994-05-05\", \"Female\", \"112 Maple St\", \"City5\", \"State5\", \"56789\", \"567-890-1234\"),\n",
    "    (\"Matthew\", \"Jones\", \"matthew.jones@example.com\", \"1995-06-06\", \"Male\", \"213 Cedar St\", \"City6\", \"State6\", \"67890\", \"678-901-2345\"),\n",
    "    (\"Sarah\", \"Miller\", \"sarah.miller@example.com\", \"1996-07-07\", \"Female\", \"314 Birch St\", \"City7\", \"State7\", \"78901\", \"789-012-3456\"),\n",
    "    (\"Daniel\", \"Davis\", \"daniel.davis@example.com\", \"1997-08-08\", \"Male\", \"415 Walnut St\", \"City8\", \"State8\", \"89012\", \"890-123-4567\"),\n",
    "    (\"Lauren\", \"Wilson\", \"lauren.wilson@example.com\", \"1998-09-09\", \"Female\", \"516 Spruce St\", \"City9\", \"State9\", \"90123\", \"901-234-5678\"),\n",
    "    (\"James\", \"Taylor\", \"james.taylor@example.com\", \"1999-10-10\", \"Male\", \"617 Pineapple St\", \"City10\", \"State10\", \"01234\", \"012-345-6789\"),\n",
    "]\n",
    "\n",
    "# Insert the sample data into the database\n",
    "for data in student_data:\n",
    "    insert_student_data(conn, *data)\n"
   ]
  },
  {
   "cell_type": "markdown",
   "id": "58bdf64d",
   "metadata": {},
   "source": [
    "# Query Data"
   ]
  },
  {
   "cell_type": "code",
   "execution_count": null,
   "id": "998561c6",
   "metadata": {},
   "outputs": [],
   "source": [
    "def query_data(conn):\n",
    "    cursor = None\n",
    "    try:\n",
    "        cursor = conn.cursor()\n",
    "\n",
    "        # Check if there was an error in the previous operations\n",
    "        if conn.notices:\n",
    "            print(\"Previous operation had warnings or errors:\", conn.notices)\n",
    "\n",
    "        query = \"SELECT * FROM students;\"\n",
    "        cursor.execute(query)\n",
    "\n",
    "        rows = cursor.fetchall()\n",
    "        for row in rows:\n",
    "            print(row)\n",
    "\n",
    "    except Exception as e:\n",
    "        print(\"Error:\", e)\n",
    "\n",
    "        # Rollback the transaction in case of an error\n",
    "        if cursor:\n",
    "            conn.rollback()\n",
    "\n",
    "    finally:\n",
    "        if cursor:\n",
    "            cursor.close()\n",
    "\n",
    "query_data(conn)\n"
   ]
  },
  {
   "cell_type": "markdown",
   "id": "d4538444",
   "metadata": {},
   "source": [
    "# Execute Stored Procedures and Functions\n",
    "- To execute stored procedures and functions, first, we need to create them in the PostgreSQL database. Once they are created, we can call them using Psycopg2.\n",
    "\n",
    "- Create a simple function in PostgreSQL\n",
    "\n",
    "CREATE OR REPLACE FUNCTION get_students_count()\n",
    "RETURNS INTEGER AS $$\n",
    "BEGIN\n",
    "    RETURN (SELECT COUNT(*) FROM students);\n",
    "END;\n",
    "$$ LANGUAGE plpgsql;"
   ]
  },
  {
   "cell_type": "code",
   "execution_count": 10,
   "id": "73733a2b",
   "metadata": {},
   "outputs": [
    {
     "name": "stdout",
     "output_type": "stream",
     "text": [
      "Total students: 10\n"
     ]
    }
   ],
   "source": [
    "def execute_function(conn):\n",
    "    cursor = None\n",
    "    try:\n",
    "        cursor = conn.cursor()\n",
    "\n",
    "        # Check if there was an error in the previous operations\n",
    "        if conn.notices:\n",
    "            print(\"Previous operation had warnings or errors:\", conn.notices)\n",
    "\n",
    "        cursor.callproc('get_students_count')\n",
    "        count = cursor.fetchone()[0]\n",
    "\n",
    "        print(f\"Total students: {count}\")\n",
    "\n",
    "    except Exception as e:\n",
    "        print(\"Error:\", e)\n",
    "\n",
    "        # Rollback the transaction in case of an error\n",
    "        if cursor:\n",
    "            conn.rollback()\n",
    "\n",
    "    finally:\n",
    "        if cursor:\n",
    "            cursor.close()\n",
    "\n",
    "# Example usage\n",
    "execute_function(conn)"
   ]
  },
  {
   "cell_type": "markdown",
   "id": "f419c28d",
   "metadata": {},
   "source": [
    "# Delete Data"
   ]
  },
  {
   "cell_type": "code",
   "execution_count": 11,
   "id": "6bc60e49",
   "metadata": {},
   "outputs": [
    {
     "name": "stdout",
     "output_type": "stream",
     "text": [
      "Data deleted successfully!\n"
     ]
    }
   ],
   "source": [
    "def delete_data(conn, email):\n",
    "    cursor = None\n",
    "    try:\n",
    "        cursor = conn.cursor()\n",
    "\n",
    "        # Check if there was an error in the previous operations\n",
    "        if conn.notices:\n",
    "            print(\"Previous operation had warnings or errors:\", conn.notices)\n",
    "\n",
    "        delete_query = \"DELETE FROM students WHERE email = %s;\"\n",
    "        cursor.execute(delete_query, (email,))\n",
    "\n",
    "        conn.commit()\n",
    "        print(\"Data deleted successfully!\")\n",
    "\n",
    "    except Exception as e:\n",
    "        print(\"Error:\", e)\n",
    "\n",
    "        # Rollback the transaction in case of an error\n",
    "        if cursor:\n",
    "            conn.rollback()\n",
    "\n",
    "    finally:\n",
    "        if cursor:\n",
    "            cursor.close()\n",
    "\n",
    "# Example usage\n",
    "delete_data(conn, \"john.doe@example.com\")"
   ]
  },
  {
   "cell_type": "markdown",
   "id": "dc378415",
   "metadata": {},
   "source": [
    "# Remove Table"
   ]
  },
  {
   "cell_type": "code",
   "execution_count": 12,
   "id": "b6dddf94",
   "metadata": {},
   "outputs": [
    {
     "name": "stdout",
     "output_type": "stream",
     "text": [
      "Table removed successfully!\n"
     ]
    }
   ],
   "source": [
    "def remove_table(conn):\n",
    "    try:\n",
    "        cursor = conn.cursor()\n",
    "        \n",
    "        remove_query = \"DROP TABLE IF EXISTS students;\"\n",
    "        cursor.execute(remove_query)\n",
    "        \n",
    "        print(\"Table removed successfully!\")\n",
    "        \n",
    "    except Exception as e:\n",
    "        print(\"Error:\", e)\n",
    "        \n",
    "    finally:\n",
    "        if cursor:\n",
    "            cursor.close()\n",
    "\n",
    "remove_table(conn)"
   ]
  },
  {
   "cell_type": "markdown",
   "id": "9c164f49",
   "metadata": {},
   "source": [
    "# Remove Database"
   ]
  },
  {
   "cell_type": "code",
   "execution_count": 13,
   "id": "5db11bba",
   "metadata": {},
   "outputs": [
    {
     "name": "stdout",
     "output_type": "stream",
     "text": [
      "Database schdbm removed successfully!\n"
     ]
    }
   ],
   "source": [
    "import psycopg2\n",
    "\n",
    "def remove_database(database_name):\n",
    "    conn = None\n",
    "    try:\n",
    "        conn = psycopg2.connect(user=\"postgres\",\n",
    "                                password=pw,\n",
    "                                host=\"localhost\",\n",
    "                                port=\"5432\")\n",
    "        conn.autocommit = True\n",
    "        cursor = conn.cursor()\n",
    "\n",
    "        # Forcefully terminate all connections to the database\n",
    "        cursor.execute(f\"SELECT pg_terminate_backend(pg_stat_activity.pid) \"\n",
    "                       f\"FROM pg_stat_activity \"\n",
    "                       f\"WHERE pg_stat_activity.datname = '{database_name}';\")\n",
    "\n",
    "        # Drop the database\n",
    "        cursor.execute(f\"DROP DATABASE IF EXISTS {database_name};\")\n",
    "        print(f\"Database {database_name} removed successfully!\")\n",
    "\n",
    "    except Exception as e:\n",
    "        print(\"Error:\", e)\n",
    "\n",
    "    finally:\n",
    "        if conn:\n",
    "            conn.close()\n",
    "\n",
    "\n",
    "remove_database(\"schdbm\")"
   ]
  },
  {
   "cell_type": "code",
   "execution_count": null,
   "id": "b3ad72eb",
   "metadata": {},
   "outputs": [],
   "source": []
  }
 ],
 "metadata": {
  "kernelspec": {
   "display_name": "Python 3 (ipykernel)",
   "language": "python",
   "name": "python3"
  },
  "language_info": {
   "codemirror_mode": {
    "name": "ipython",
    "version": 3
   },
   "file_extension": ".py",
   "mimetype": "text/x-python",
   "name": "python",
   "nbconvert_exporter": "python",
   "pygments_lexer": "ipython3",
   "version": "3.11.3"
  }
 },
 "nbformat": 4,
 "nbformat_minor": 5
}
